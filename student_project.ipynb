{
 "cells": [
  {
   "cell_type": "markdown",
   "metadata": {},
   "source": [
    "# Function interpolation - simulation study "
   ]
  },
  {
   "cell_type": "markdown",
   "metadata": {},
   "source": [
    "This notebook runs a simple simulation study comparing the performance of multidimensional interpolation methods.\n",
    "\n",
    "Ultimately, the goal is to implement interpolation methods in *respy*, an open-source Python package for the estimation of dynamic discrete-choice models."
   ]
  },
  {
   "cell_type": "markdown",
   "metadata": {},
   "source": [
    "# Motivation\n",
    "\n",
    "\n"
   ]
  },
  {
   "cell_type": "markdown",
   "metadata": {},
   "source": [
    "..."
   ]
  },
  {
   "cell_type": "markdown",
   "metadata": {},
   "source": [
    "# Theoretical Framework"
   ]
  },
  {
   "cell_type": "markdown",
   "metadata": {},
   "source": [
    "..."
   ]
  },
  {
   "cell_type": "markdown",
   "metadata": {},
   "source": [
    "# Simulation study"
   ]
  },
  {
   "cell_type": "markdown",
   "metadata": {},
   "source": [
    "## Import necessary packages:"
   ]
  },
  {
   "cell_type": "code",
   "execution_count": 5,
   "metadata": {},
   "outputs": [
    {
     "name": "stdout",
     "output_type": "stream",
     "text": [
      "The autoreload extension is already loaded. To reload it, use:\n",
      "  %reload_ext autoreload\n"
     ]
    }
   ],
   "source": [
    "%load_ext autoreload\n",
    "%matplotlib inline\n",
    "\n",
    "import pickle\n",
    "import sys\n",
    "import os\n",
    "\n",
    "cwd = os.getcwd()\n",
    "sys.path.insert(0, cwd + \"\\src\")\n",
    "\n",
    "import matplotlib.pyplot as plt\n",
    "import numpy as np\n",
    "from time import time\n",
    "\n",
    "from src.functions_to_approximate import borehole_numba as borehole\n",
    "from src.interpolate import get_data\n",
    "from src.interpolate import get_grid\n",
    "from src.interpolate import interpolate_linear\n",
    "from src.interpolate import interpolate_smolyak\n",
    "from src.interpolate import interpolate_spline\n",
    "from src.interpolate import rmse as root_mean_squared_error\n",
    "from src.parameters import study_params\n",
    "from src.parameters import interp_params\n"
   ]
  },
  {
   "cell_type": "markdown",
   "metadata": {},
   "source": []
  },
  {
   "cell_type": "code",
   "execution_count": null,
   "metadata": {},
   "outputs": [],
   "source": []
  },
  {
   "cell_type": "markdown",
   "metadata": {},
   "source": [
    "## Benchmark: Smolyak interpolation"
   ]
  },
  {
   "cell_type": "markdown",
   "metadata": {},
   "source": [
    "### Set parameters"
   ]
  },
  {
   "cell_type": "code",
   "execution_count": 9,
   "metadata": {},
   "outputs": [],
   "source": [
    "study_params[\"controls\"] = {\n",
    "    \"load data\": False,\n",
    "    \"method\": \"smolyak\",\n",
    "    \"grid size\": \"small\",\n",
    "    \"variables\": [2, 3, 4, 5, 6, 7, 8],\n",
    "    \"function to approximate\": borehole,\n",
    "}"
   ]
  },
  {
   "cell_type": "markdown",
   "metadata": {},
   "source": [
    "### Execute interpolation"
   ]
  },
  {
   "cell_type": "code",
   "execution_count": 11,
   "metadata": {},
   "outputs": [
    {
     "name": "stdout",
     "output_type": "stream",
     "text": [
      "dimension: 2; iteration: 1\n",
      "root mean squared error: smolyak 7.5859324023803255e-06\n",
      "computation time: smolyak 0.0023109912872314453\n",
      "gridpoints: 5\n",
      "dimension: 2; iteration: 2\n",
      "root mean squared error: smolyak 2.2028415067855797e-07\n",
      "computation time: smolyak 0.003515005111694336\n",
      "gridpoints: 13\n",
      "dimension: 2; iteration: 3\n",
      "root mean squared error: smolyak 4.917078991684836e-09\n",
      "computation time: smolyak 0.00408482551574707\n",
      "gridpoints: 29\n",
      "dimension: 3; iteration: 1\n",
      "root mean squared error: smolyak 1.0624420845658901e-05\n",
      "computation time: smolyak 0.009972572326660156\n",
      "gridpoints: 7\n",
      "dimension: 3; iteration: 2\n",
      "root mean squared error: smolyak 3.097104978764495e-07\n",
      "computation time: smolyak 0.010970592498779297\n",
      "gridpoints: 25\n",
      "dimension: 3; iteration: 3\n",
      "root mean squared error: smolyak 6.953755734777794e-09\n",
      "computation time: smolyak 0.009979248046875\n",
      "gridpoints: 69\n",
      "dimension: 4; iteration: 1\n",
      "root mean squared error: smolyak 0.01533831885880831\n",
      "computation time: smolyak 0.03191971778869629\n",
      "gridpoints: 9\n",
      "dimension: 4; iteration: 2\n",
      "root mean squared error: smolyak 0.005486743986917895\n",
      "computation time: smolyak 0.03014349937438965\n",
      "gridpoints: 41\n",
      "dimension: 4; iteration: 3\n",
      "root mean squared error: smolyak 0.0018754355620509279\n",
      "computation time: smolyak 0.05086350440979004\n",
      "gridpoints: 137\n",
      "dimension: 5; iteration: 1\n",
      "root mean squared error: smolyak 7.9859136599112786\n",
      "computation time: smolyak 0.19451332092285156\n",
      "gridpoints: 11\n",
      "dimension: 5; iteration: 2\n",
      "root mean squared error: smolyak 0.031130624698888554\n",
      "computation time: smolyak 0.14912629127502441\n",
      "gridpoints: 61\n",
      "dimension: 5; iteration: 3\n",
      "root mean squared error: smolyak 0.01121628428959272\n",
      "computation time: smolyak 0.24609375\n",
      "gridpoints: 241\n",
      "dimension: 6; iteration: 1\n",
      "root mean squared error: smolyak 10.201236989952084\n",
      "computation time: smolyak 1.046205997467041\n",
      "gridpoints: 13\n",
      "dimension: 6; iteration: 2\n",
      "root mean squared error: smolyak 1.1796516411304319\n",
      "computation time: smolyak 0.8471319675445557\n",
      "gridpoints: 85\n",
      "dimension: 6; iteration: 3\n",
      "root mean squared error: smolyak 0.01986601393635192\n",
      "computation time: smolyak 1.1329710483551025\n",
      "gridpoints: 389\n",
      "dimension: 7; iteration: 1\n",
      "root mean squared error: smolyak 26.98736627070796\n",
      "computation time: smolyak 4.899900436401367\n",
      "gridpoints: 15\n",
      "dimension: 7; iteration: 2\n",
      "root mean squared error: smolyak 5.94507315267702\n",
      "computation time: smolyak 4.741855144500732\n",
      "gridpoints: 113\n",
      "dimension: 7; iteration: 3\n",
      "root mean squared error: smolyak 0.671596509610939\n",
      "computation time: smolyak 5.939163446426392\n",
      "gridpoints: 589\n",
      "dimension: 8; iteration: 1\n",
      "root mean squared error: smolyak 26.961883694738482\n",
      "computation time: smolyak 27.338512897491455\n",
      "gridpoints: 17\n",
      "dimension: 8; iteration: 2\n",
      "root mean squared error: smolyak 5.937484542700741\n",
      "computation time: smolyak 30.97149682044983\n",
      "gridpoints: 145\n",
      "dimension: 8; iteration: 3\n",
      "root mean squared error: smolyak 0.6717450121801823\n",
      "computation time: smolyak 51.27688550949097\n",
      "gridpoints: 849\n"
     ]
    }
   ],
   "source": [
    "# load parameters\n",
    "method = study_params[\"controls\"][\"method\"]\n",
    "func = study_params[\"controls\"][\"function to approximate\"]\n",
    "grid_size = study_params[\"controls\"][\"grid size\"]\n",
    "iterations = study_params[method][\"mu\"]\n",
    "interpolator = study_params[method][\"interpolator\"]\n",
    "\n",
    "# initiate dict to store results\n",
    "results = {}\n",
    "results[method] = {\"rmse\": {}, \"runtime\": {}, \"gridpoints\": {}}\n",
    "\n",
    "for n_vars in study_params[\"controls\"][\"variables\"]:\n",
    "\n",
    "    # generate grid\n",
    "    n_gridpoints = study_params[\"grid\"][\"n_gridpoints\"][grid_size]\n",
    "    grid_min = study_params[\"grid\"][\"lower bounds\"][:n_vars]\n",
    "    grid_max = study_params[\"grid\"][\"upper bounds\"][:n_vars]\n",
    "    dims_state_grid = np.array(object=[n_gridpoints] * n_vars, dtype=int,)\n",
    "    n_states = dims_state_grid.prod()\n",
    "    grid = get_grid(dims_state_grid, grid_min, grid_max)\n",
    "    index = np.array(object=range(n_states))\n",
    "\n",
    "    # load or calculate actuals\n",
    "    _, results_calc = get_data(func, grid_size, n_vars, dims_state_grid, grid)\n",
    "\n",
    "    # initiate objects to store results\n",
    "    rmse_tmp = []\n",
    "    runtime_tmp = []\n",
    "    n_gridpoints_effective_tmp = []\n",
    "\n",
    "    # iterate over settings\n",
    "    for iteration in range(len(iterations)):\n",
    "        print(f\"dimension: {n_vars}; iteration: {iteration + 1}\")\n",
    "\n",
    "        # adjust interpolation parameters\n",
    "        if study_params[\"controls\"][\"method\"] == \"linear\":\n",
    "            interp_params[\"linear\"][\"interpolation_points\"] = study_params[\n",
    "                \"spline\"\n",
    "            ][\"interpolation_points\"][iteration]\n",
    "        elif study_params[\"controls\"][\"method\"] == \"spline\":\n",
    "            interp_params[\"spline\"][\"interpolation_points\"] = study_params[\n",
    "                \"spline\"\n",
    "            ][\"interpolation_points\"][iteration]\n",
    "        elif study_params[\"controls\"][\"method\"] == \"smolyak\":\n",
    "            interp_params[\"smolyak\"][\"mu\"] = study_params[\"smolyak\"][\"mu\"][\n",
    "                iteration\n",
    "            ]\n",
    "\n",
    "        # interpolate and capture computation time\n",
    "        start = time()\n",
    "        results_interp, n_gridpoints_effective = interpolator(\n",
    "            grid, func, interp_params\n",
    "        )\n",
    "        stop = time()\n",
    "\n",
    "        # assess interpolation accuracy\n",
    "        rmse_iter = root_mean_squared_error(results_interp, results_calc)\n",
    "\n",
    "        # print and store results\n",
    "        print(\"root mean squared error: \" + method + f\" {rmse_iter}\")\n",
    "        print(\"computation time: \" + method + \" {}\".format(stop - start))\n",
    "        print(f\"gridpoints: {n_gridpoints_effective}\")\n",
    "\n",
    "        rmse_tmp.append(rmse_iter)\n",
    "        runtime_tmp.append(stop - start)\n",
    "        n_gridpoints_effective_tmp.append(n_gridpoints_effective)\n",
    "\n",
    "    results[method][\"rmse\"][n_vars] = np.array(object=rmse_tmp)\n",
    "    results[method][\"runtime\"][n_vars] = np.array(object=runtime_tmp)\n",
    "    results[method][\"gridpoints\"][n_vars] = np.array(\n",
    "        object=n_gridpoints_effective_tmp\n",
    "    )"
   ]
  },
  {
   "cell_type": "code",
   "execution_count": 14,
   "metadata": {},
   "outputs": [
    {
     "name": "stdout",
     "output_type": "stream",
     "text": [
      "{2: array([7.58593240e-06, 2.20284151e-07, 4.91707899e-09]), 3: array([1.06244208e-05, 3.09710498e-07, 6.95375573e-09]), 4: array([0.01533832, 0.00548674, 0.00187544]), 5: array([7.98591366, 0.03113062, 0.01121628]), 6: array([10.20123699,  1.17965164,  0.01986601]), 7: array([26.98736627,  5.94507315,  0.67159651]), 8: array([26.96188369,  5.93748454,  0.67174501])}\n",
      "{2: array([0.00231099, 0.00351501, 0.00408483]), 3: array([0.00997257, 0.01097059, 0.00997925]), 4: array([0.03191972, 0.0301435 , 0.0508635 ]), 5: array([0.19451332, 0.14912629, 0.24609375]), 6: array([1.046206  , 0.84713197, 1.13297105]), 7: array([4.89990044, 4.74185514, 5.93916345]), 8: array([27.3385129 , 30.97149682, 51.27688551])}\n"
     ]
    }
   ],
   "source": [
    "print(results[\"smolyak\"][\"rmse\"])\n",
    "print(results[\"smolyak\"][\"runtime\"])"
   ]
  },
  {
   "cell_type": "code",
   "execution_count": null,
   "metadata": {},
   "outputs": [],
   "source": []
  },
  {
   "cell_type": "code",
   "execution_count": null,
   "metadata": {},
   "outputs": [],
   "source": []
  },
  {
   "cell_type": "code",
   "execution_count": null,
   "metadata": {},
   "outputs": [],
   "source": []
  },
  {
   "cell_type": "markdown",
   "metadata": {},
   "source": [
    "# Plot results"
   ]
  },
  {
   "cell_type": "code",
   "execution_count": 22,
   "metadata": {},
   "outputs": [
    {
     "data": {
      "image/png": "[encoded data removed]",
      "text/plain": [
       "<Figure size 1080x720 with 1 Axes>"
      ]
     },
     "metadata": {
      "needs_background": "light"
     },
     "output_type": "display_data"
    }
   ],
   "source": [
    "%matplotlib inline\n",
    "\n",
    "plt.rcParams['figure.figsize'] = [15, 10]\n",
    "\n",
    "plot_legend = []\n",
    "plot_x = []\n",
    "plot_y = []\n",
    "for n_vars in study_params[\"controls\"][\"variables\"]:\n",
    "    plot_legend.append(n_vars)\n",
    "    plot_x.append(results[method][\"gridpoints\"][n_vars])\n",
    "    plot_y.append(results[method][\"rmse\"][n_vars])\n",
    "\n",
    "for idx in range(len(study_params[\"controls\"][\"variables\"])):\n",
    "    plt.plot(plot_x[idx], plot_y[idx])\n",
    "\n",
    "plt.xscale(\"log\")\n",
    "plt.yscale(\"log\")\n",
    "plt.xlabel(\"number of interpolation points (log axis)\")\n",
    "plt.ylabel(\"root mean squared error (log axis)\")\n",
    "plt.legend(plot_legend)\n",
    "plt.title(\"Interpolation accuracy (\" + grid_size + \" grid)\")\n",
    "plt.show()"
   ]
  },
  {
   "cell_type": "code",
   "execution_count": null,
   "metadata": {},
   "outputs": [],
   "source": []
  },
  {
   "cell_type": "markdown",
   "metadata": {},
   "source": [
    "# References"
   ]
  },
  {
   "cell_type": "markdown",
   "metadata": {},
   "source": [
    "..."
   ]
  },
  {
   "cell_type": "code",
   "execution_count": null,
   "metadata": {},
   "outputs": [],
   "source": []
  },
  {
   "cell_type": "code",
   "execution_count": null,
   "metadata": {},
   "outputs": [],
   "source": []
  }
 ],
 "metadata": {
  "kernelspec": {
   "display_name": "Python 3",
   "language": "python",
   "name": "python3"
  },
  "language_info": {
   "codemirror_mode": {
    "name": "ipython",
    "version": 3
   },
   "file_extension": ".py",
   "mimetype": "text/x-python",
   "name": "python",
   "nbconvert_exporter": "python",
   "pygments_lexer": "ipython3",
   "version": "3.7.6"
  },
  "pycharm": {
   "stem_cell": {
    "cell_type": "raw",
    "metadata": {
     "collapsed": false
    },
    "source": []
   }
  }
 },
 "nbformat": 4,
 "nbformat_minor": 1
}

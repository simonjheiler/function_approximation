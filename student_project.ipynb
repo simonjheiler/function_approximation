{
 "cells": [
  {
   "cell_type": "markdown",
   "metadata": {},
   "source": [
    "# Function interpolation - simulation study "
   ]
  },
  {
   "cell_type": "markdown",
   "metadata": {},
   "source": [
    "This notebook runs a simple simulation study comparing the performance of multidimensional interpolation methods.\n",
    "\n",
    "Ultimately, the goal is to implement interpolation methods in *respy*, an open-source Python package for the estimation of dynamic discrete-choice models."
   ]
  },
  {
   "cell_type": "markdown",
   "metadata": {},
   "source": [
    "# Motivation\n",
    "\n",
    "\n"
   ]
  },
  {
   "cell_type": "markdown",
   "metadata": {},
   "source": [
    "..."
   ]
  },
  {
   "cell_type": "markdown",
   "metadata": {},
   "source": [
    "# Theoretical Framework"
   ]
  },
  {
   "cell_type": "markdown",
   "metadata": {},
   "source": [
    "..."
   ]
  },
  {
   "cell_type": "markdown",
   "metadata": {},
   "source": [
    "# Simulation study"
   ]
  },
  {
   "cell_type": "markdown",
   "metadata": {},
   "source": [
    "## Import necessary packages:"
   ]
  },
  {
   "cell_type": "code",
   "execution_count": 1,
   "metadata": {},
   "outputs": [],
   "source": [
    "%load_ext autoreload\n",
    "\n",
    "import matplotlib.pyplot as plt\n",
    "import numpy as np\n",
    "from src.functions_to_approximate import borehole\n",
    "from src.interpolate import evaluation_batch\n",
    "from src.interpolate import get_corner_states\n",
    "from src.interpolate import get_data\n",
    "from src.interpolate import get_dims_state_grid\n",
    "from src.interpolate import get_grids_indices\n",
    "from src.interpolate import get_grids_values\n",
    "from src.interpolate import get_not_interpolated_indicator_random\n",
    "from src.interpolate import get_states_grid_dense\n",
    "from src.interpolate import inputs_from_ids_batch\n",
    "from src.interpolate import inputs_from_state\n",
    "from src.interpolate import interpolate_linear\n",
    "from src.interpolate import mse as mean_squared_error\n",
    "from src.interpolate import state_from_id\n",
    "from src.interpolate import state_to_id\n",
    "from src.interpolate import states_from_ids_batch\n",
    "from src.interpolate import states_to_ids_batch"
   ]
  },
  {
   "cell_type": "markdown",
   "metadata": {},
   "source": [
    "## Load default parameters"
   ]
  },
  {
   "cell_type": "code",
   "execution_count": 2,
   "metadata": {},
   "outputs": [],
   "source": [
    "# default parameters for simulation study\n",
    "grid_min_defaults = np.array(\n",
    "    object=[63070.0, 990.0, 700.0, 100.0, 0.05, 1120.0, 1500.0, 63.1], dtype=float,\n",
    ")\n",
    "grid_max_defaults = np.array(\n",
    "    object=[115600.0, 1110.0, 820.0, 50000.0, 0.15, 1680.0, 15000.0, 116.0],\n",
    "    dtype=float,\n",
    ")\n",
    "\n",
    "n_gridpoints_dim_params = {}\n",
    "n_gridpoints_dim_params[\"small\"] = 5\n",
    "n_gridpoints_dim_params[\"medium\"] = 10\n",
    "n_gridpoints_dim_params[\"large\"] = 100\n",
    "\n",
    "grid_density_params = {}\n",
    "grid_density_params[\"small\"] = np.array(object=[0, 1, 2, 3, 4, 5])\n",
    "grid_density_params[\"medium\"] = np.array(object=[0, 1, 2, 3, 4, 5, 6, 7, 8, 9, 10])\n",
    "grid_density_params[\"large\"] = np.array(\n",
    "    object=[0, 10, 20, 30, 40, 50, 60, 70, 80, 90, 100]\n",
    ")\n",
    "\n",
    "vars_params = {}\n",
    "vars_params[\"small\"] = [2, 3, 4, 5]\n",
    "vars_params[\"medium\"] = [2, 3, 4, 5]\n",
    "vars_params[\"large\"] = [2]"
   ]
  },
  {
   "cell_type": "markdown",
   "metadata": {},
   "source": [
    "## Set parameters for simulation study"
   ]
  },
  {
   "cell_type": "code",
   "execution_count": 4,
   "metadata": {},
   "outputs": [],
   "source": [
    "seed = 123\n",
    "load_data = True\n",
    "grid_size = \"small\""
   ]
  },
  {
   "cell_type": "markdown",
   "metadata": {},
   "source": [
    "..."
   ]
  },
  {
   "cell_type": "code",
   "execution_count": 5,
   "metadata": {},
   "outputs": [],
   "source": [
    "n_gridpoints_dim = n_gridpoints_dim_params[grid_size]\n",
    "grid_density = grid_density_params[grid_size]\n",
    "vars = vars_params[grid_size]\n",
    "\n",
    "n_gridpoints_defaults = np.array(object=[n_gridpoints_dim] * 8, dtype=int,)\n",
    "\n",
    "interpolation_points = {}\n",
    "for n_vars in vars:\n",
    "    interpolation_points[n_vars] = (grid_density * (n_gridpoints_dim ** (n_vars-1))).tolist()"
   ]
  },
  {
   "cell_type": "code",
   "execution_count": 6,
   "metadata": {},
   "outputs": [
    {
     "name": "stdout",
     "output_type": "stream",
     "text": [
      "{2: [0, 5, 10, 15, 20, 25], 3: [0, 25, 50, 75, 100, 125], 4: [0, 125, 250, 375, 500, 625], 5: [0, 625, 1250, 1875, 2500, 3125]}\n"
     ]
    }
   ],
   "source": [
    "print(interpolation_points)"
   ]
  },
  {
   "cell_type": "code",
   "execution_count": 7,
   "metadata": {},
   "outputs": [
    {
     "name": "stdout",
     "output_type": "stream",
     "text": [
      "iteration: 0; number of variables: 2\n",
      "get interpolation basis\n",
      "get interpolation points\n",
      "interpolate\n",
      "calculate mean squared error\n",
      "iteration: 1; number of variables: 2\n",
      "get interpolation basis\n",
      "get interpolation points\n",
      "interpolate\n",
      "calculate mean squared error\n",
      "iteration: 2; number of variables: 2\n",
      "get interpolation basis\n",
      "get interpolation points\n",
      "interpolate\n",
      "calculate mean squared error\n",
      "iteration: 3; number of variables: 2\n",
      "get interpolation basis\n",
      "get interpolation points\n",
      "interpolate\n",
      "calculate mean squared error\n",
      "iteration: 4; number of variables: 2\n",
      "get interpolation basis\n",
      "get interpolation points\n",
      "interpolate\n",
      "calculate mean squared error\n",
      "iteration: 5; number of variables: 2\n",
      "get interpolation basis\n",
      "get interpolation points\n",
      "interpolate\n",
      "calculate mean squared error\n",
      "iteration: 0; number of variables: 3\n",
      "get interpolation basis\n",
      "get interpolation points\n",
      "interpolate\n",
      "calculate mean squared error\n",
      "iteration: 1; number of variables: 3\n",
      "get interpolation basis\n",
      "get interpolation points\n",
      "interpolate\n",
      "calculate mean squared error\n",
      "iteration: 2; number of variables: 3\n",
      "get interpolation basis\n",
      "get interpolation points\n",
      "interpolate\n",
      "calculate mean squared error\n",
      "iteration: 3; number of variables: 3\n",
      "get interpolation basis\n",
      "get interpolation points\n",
      "interpolate\n",
      "calculate mean squared error\n",
      "iteration: 4; number of variables: 3\n",
      "get interpolation basis\n",
      "get interpolation points\n",
      "interpolate\n",
      "calculate mean squared error\n",
      "iteration: 5; number of variables: 3\n",
      "get interpolation basis\n",
      "get interpolation points\n",
      "interpolate\n",
      "calculate mean squared error\n",
      "iteration: 0; number of variables: 4\n",
      "get interpolation basis\n",
      "get interpolation points\n",
      "interpolate\n",
      "calculate mean squared error\n",
      "iteration: 1; number of variables: 4\n",
      "get interpolation basis\n",
      "get interpolation points\n",
      "interpolate\n",
      "calculate mean squared error\n",
      "iteration: 2; number of variables: 4\n",
      "get interpolation basis\n",
      "get interpolation points\n",
      "interpolate\n",
      "calculate mean squared error\n",
      "iteration: 3; number of variables: 4\n",
      "get interpolation basis\n",
      "get interpolation points\n",
      "interpolate\n",
      "calculate mean squared error\n",
      "iteration: 4; number of variables: 4\n",
      "get interpolation basis\n",
      "get interpolation points\n",
      "interpolate\n",
      "calculate mean squared error\n",
      "iteration: 5; number of variables: 4\n",
      "get interpolation basis\n",
      "get interpolation points\n",
      "interpolate\n",
      "calculate mean squared error\n",
      "iteration: 0; number of variables: 5\n",
      "get interpolation basis\n",
      "get interpolation points\n",
      "interpolate\n",
      "calculate mean squared error\n",
      "iteration: 1; number of variables: 5\n",
      "get interpolation basis\n",
      "get interpolation points\n",
      "interpolate\n",
      "calculate mean squared error\n",
      "iteration: 2; number of variables: 5\n",
      "get interpolation basis\n",
      "get interpolation points\n",
      "interpolate\n",
      "calculate mean squared error\n",
      "iteration: 3; number of variables: 5\n",
      "get interpolation basis\n",
      "get interpolation points\n",
      "interpolate\n",
      "calculate mean squared error\n",
      "iteration: 4; number of variables: 5\n",
      "get interpolation basis\n",
      "get interpolation points\n",
      "interpolate\n",
      "calculate mean squared error\n",
      "iteration: 5; number of variables: 5\n",
      "get interpolation basis\n",
      "get interpolation points\n",
      "interpolate\n",
      "calculate mean squared error\n",
      "interpolation complete\n"
     ]
    }
   ],
   "source": [
    "iterations = list(range(len(grid_density)))\n",
    "\n",
    "mse = {}\n",
    "interpolation_points_effective = {}\n",
    "\n",
    "for n_vars in vars:\n",
    "    n_state_variables = n_vars\n",
    "\n",
    "    n_gridpoints = n_gridpoints_defaults[:n_state_variables]\n",
    "    grid_min = grid_min_defaults[:n_state_variables]\n",
    "    grid_max = grid_max_defaults[:n_state_variables]\n",
    "\n",
    "    n_states = n_gridpoints.prod()\n",
    "\n",
    "    mse_tmp = []\n",
    "    interpolation_points_effective_tmp = []\n",
    "\n",
    "    for iteration in iterations:\n",
    "        print(f\"iteration: {iteration}; number of variables: {n_vars}\")\n",
    "        n_interpolation_points = interpolation_points[n_vars][iteration]\n",
    "\n",
    "        dims_state_grid = get_dims_state_grid(n_state_variables, n_gridpoints)\n",
    "        grids_values = get_grids_values(dims_state_grid, grid_min, grid_max)\n",
    "\n",
    "        n_states = dims_state_grid.prod()\n",
    "        states_index = np.array(object=range(n_states), dtype=int)\n",
    "        states = states_from_ids_batch(states_index, dims_state_grid)\n",
    "        results = evaluation_batch(states, grids_values)\n",
    "\n",
    "        index = np.array(object=range(n_states))\n",
    "        not_interpolated = get_not_interpolated_indicator_random(\n",
    "            n_interpolation_points, n_states, seed\n",
    "        )\n",
    "\n",
    "        print(\"get interpolation basis\")\n",
    "        corner_states = get_corner_states(dims_state_grid)\n",
    "        corner_index = states_to_ids_batch(corner_states, dims_state_grid)\n",
    "        basis_index = np.unique(\n",
    "            np.concatenate((index[not_interpolated], corner_index))\n",
    "        )\n",
    "        basis_points = inputs_from_ids_batch(\n",
    "            basis_index, dims_state_grid, grids_values\n",
    "        )\n",
    "        basis_results = results[basis_index]\n",
    "\n",
    "        print(\"get interpolation points\")\n",
    "        not_interpolated = np.in1d(index, basis_index)\n",
    "        interpolated = np.logical_not(not_interpolated)\n",
    "        index_not_interpolated = index[not_interpolated]\n",
    "        index_interpolated = index[interpolated]\n",
    "        inputs = inputs_from_ids_batch(\n",
    "            index_interpolated, dims_state_grid, grids_values\n",
    "        )\n",
    "\n",
    "        print(\"interpolate\")\n",
    "        predict = interpolate_linear(inputs, basis_points, basis_results)\n",
    "        results_predicted = np.full_like(results, np.nan)\n",
    "        results_predicted[not_interpolated] = results[not_interpolated]\n",
    "        results_predicted[interpolated] = predict\n",
    "        results_calculated = results\n",
    "\n",
    "        print(\"calculate mean squared error\")\n",
    "        mse_iter = mean_squared_error(results_predicted, results_calculated)\n",
    "        mse_tmp.append(mse_iter)\n",
    "\n",
    "        interpolation_points_effective_tmp.append(len(basis_index))\n",
    "\n",
    "    mse[n_vars] = np.array(object=mse_tmp)\n",
    "    interpolation_points_effective[n_vars] = np.array(\n",
    "        object=interpolation_points_effective_tmp\n",
    "    )\n",
    "\n",
    "print(\"interpolation complete\")"
   ]
  },
  {
   "cell_type": "code",
   "execution_count": 8,
   "metadata": {},
   "outputs": [
    {
     "name": "stdout",
     "output_type": "stream",
     "text": [
      "{2: array([1.16297227e-10, 7.73656025e-11, 5.70148687e-11, 2.30639637e-12,\n",
      "       1.13256826e-12, 0.00000000e+00]), 3: array([2.22628314e-10, 4.90331304e-11, 3.37867597e-11, 5.83973883e-12,\n",
      "       3.26716674e-12, 0.00000000e+00]), 4: array([1.43189982e-03, 2.12970441e-04, 8.87126508e-05, 4.84834642e-05,\n",
      "       3.18754793e-05, 0.00000000e+00]), 5: array([86.47001962,  5.51067626,  2.46586576,  1.15209044,  0.47468751,\n",
      "        0.        ])}\n"
     ]
    }
   ],
   "source": [
    "print(mse)"
   ]
  },
  {
   "cell_type": "code",
   "execution_count": 9,
   "metadata": {},
   "outputs": [
    {
     "name": "stdout",
     "output_type": "stream",
     "text": [
      "{2: array([ 4,  9, 13, 17, 20, 25]), 3: array([  8,  29,  52,  75, 100, 125]), 4: array([ 16, 135, 256, 378, 501, 625]), 5: array([  32,  653, 1270, 1885, 2505, 3125])}\n"
     ]
    }
   ],
   "source": [
    "print(interpolation_points_effective)"
   ]
  },
  {
   "cell_type": "markdown",
   "metadata": {},
   "source": [
    "# Plot results"
   ]
  },
  {
   "cell_type": "code",
   "execution_count": 10,
   "metadata": {},
   "outputs": [
    {
     "data": {
      "image/png": "[encoded data removed]",
      "text/plain": [
       "<Figure size 1080x720 with 1 Axes>"
      ]
     },
     "metadata": {
      "needs_background": "light"
     },
     "output_type": "display_data"
    }
   ],
   "source": [
    "%matplotlib inline\n",
    "\n",
    "plt.rcParams['figure.figsize'] = [15, 10]\n",
    "\n",
    "plot_legend = []\n",
    "plot_x = []\n",
    "plot_y = []\n",
    "for n_vars in vars:\n",
    "    plot_legend.append(n_vars)\n",
    "    plot_x.append(interpolation_points_effective[n_vars][:-1])\n",
    "    plot_y.append(np.sqrt(mse[n_vars][:-1]))\n",
    "\n",
    "for idx in range(len(vars)):\n",
    "    plt.plot(plot_x[idx], plot_y[idx])\n",
    "\n",
    "plt.xscale(\"log\")\n",
    "plt.yscale(\"log\")\n",
    "plt.xlabel(\"number of interpolation points (log axis)\")\n",
    "plt.ylabel(\"root mean squared error (log axis)\")\n",
    "plt.legend(plot_legend)\n",
    "plt.title(\"Interpolation accuracy (\" + grid_size + \" grid)\")\n",
    "plt.show()"
   ]
  },
  {
   "cell_type": "code",
   "execution_count": 11,
   "metadata": {},
   "outputs": [
    {
     "data": {
      "image/png": "[encoded data removed]",
      "text/plain": [
       "<Figure size 1080x720 with 1 Axes>"
      ]
     },
     "metadata": {
      "needs_background": "light"
     },
     "output_type": "display_data"
    }
   ],
   "source": [
    "%matplotlib inline\n",
    "\n",
    "plt.rcParams['figure.figsize'] = [15, 10]\n",
    "\n",
    "plt.plot(plot_x[1], plot_y[1])\n",
    "\n",
    "plt.xlabel(\"number of interpolation points\")\n",
    "plt.ylabel(\"root mean squared error\")\n",
    "plt.title(\"Interpolation accuracy (\" + grid_size + \" grid, 3 variables)\")\n",
    "plt.show()"
   ]
  },
  {
   "cell_type": "markdown",
   "metadata": {},
   "source": [
    "# References"
   ]
  },
  {
   "cell_type": "markdown",
   "metadata": {},
   "source": [
    "..."
   ]
  },
  {
   "cell_type": "code",
   "execution_count": null,
   "metadata": {},
   "outputs": [],
   "source": []
  }
 ],
 "metadata": {
  "kernelspec": {
   "display_name": "Python 3",
   "language": "python",
   "name": "python3"
  },
  "language_info": {
   "codemirror_mode": {
    "name": "ipython",
    "version": 3
   },
   "file_extension": ".py",
   "mimetype": "text/x-python",
   "name": "python",
   "nbconvert_exporter": "python",
   "pygments_lexer": "ipython3",
   "version": "3.7.6"
  },
  "pycharm": {
   "stem_cell": {
    "cell_type": "raw",
    "source": [],
    "metadata": {
     "collapsed": false
    }
   }
  }
 },
 "nbformat": 4,
 "nbformat_minor": 1
}
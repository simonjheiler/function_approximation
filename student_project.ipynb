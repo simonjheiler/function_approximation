{
 "cells": [
  {
   "cell_type": "markdown",
   "metadata": {},
   "source": [
    "# Function interpolation - simulation study "
   ]
  },
  {
   "cell_type": "markdown",
   "metadata": {},
   "source": [
    "This notebook runs a simple simulation study comparing the performance of multidimensional interpolation methods.\n",
    "\n",
    "Ultimately, the goal is to implement interpolation methods in *respy*, an open-source Python package for the estimation of dynamic discrete-choice models."
   ]
  },
  {
   "cell_type": "markdown",
   "metadata": {},
   "source": [
    "# Motivation\n",
    "\n",
    "\n"
   ]
  },
  {
   "cell_type": "markdown",
   "metadata": {},
   "source": [
    "..."
   ]
  },
  {
   "cell_type": "markdown",
   "metadata": {},
   "source": [
    "# Theoretical Framework"
   ]
  },
  {
   "cell_type": "markdown",
   "metadata": {},
   "source": [
    "..."
   ]
  },
  {
   "cell_type": "markdown",
   "metadata": {},
   "source": [
    "# Simulation study"
   ]
  },
  {
   "cell_type": "markdown",
   "metadata": {},
   "source": [
    "## Import necessary packages:"
   ]
  },
  {
   "cell_type": "code",
   "execution_count": 1,
   "metadata": {},
   "outputs": [],
   "source": [
    "%load_ext autoreload\n",
    "%matplotlib inline\n",
    "\n",
    "import os\n",
    "import pickle\n",
    "import sys\n",
    "\n",
    "root = os.path.dirname(os.path.abspath(sys.argv[0]))\n",
    "sys.path.insert(0, root)\n",
    "\n",
    "import matplotlib.pyplot as plt\n",
    "import numpy as np\n",
    "from time import time\n",
    "\n",
    "from src.functions_to_approximate import borehole_numba as borehole\n",
    "from src.functions_to_approximate import zhou_vectorize as zhou\n",
    "from src.auxiliary import get_grid\n",
    "from src.auxiliary import get_interpolation_points\n",
    "from src.auxiliary import rmse as root_mean_squared_error\n",
    "from src.parameters import study_params\n",
    "from src.parameters import interp_params"
   ]
  },
  {
   "cell_type": "markdown",
   "metadata": {},
   "source": []
  },
  {
   "cell_type": "code",
   "execution_count": null,
   "metadata": {},
   "outputs": [],
   "source": []
  },
  {
   "cell_type": "markdown",
   "metadata": {},
   "source": [
    "## Benchmark: Smolyak interpolation"
   ]
  },
  {
   "cell_type": "markdown",
   "metadata": {},
   "source": [
    "### Set parameters"
   ]
  },
  {
   "cell_type": "code",
   "execution_count": 3,
   "metadata": {},
   "outputs": [],
   "source": [
    "study_params[\"controls\"] = {\n",
    "    \"load data\": False,\n",
    "    \"method\": \"smolyak\",\n",
    "    \"grid size\": \"medium\",\n",
    "    \"variables\": [2, 3, 4, 5, 6, 7, 8],\n",
    "    \"function to approximate\": zhou,\n",
    "    \"number of points for accuracy check\": 1000,\n",
    "    \"seed for accuracy check\": 123,\n",
    "}\n"
   ]
  },
  {
   "cell_type": "markdown",
   "metadata": {},
   "source": [
    "### Execute interpolation"
   ]
  },
  {
   "cell_type": "code",
   "execution_count": 4,
   "metadata": {},
   "outputs": [
    {
     "name": "stdout",
     "output_type": "stream",
     "text": [
      "dimension: 2; iteration: 1\n",
      "root mean squared error: smolyak 1.6858871505140047\n",
      "computation time: smolyak 0.055295467376708984\n",
      "gridpoints: 5\n",
      "dimension: 2; iteration: 2\n",
      "root mean squared error: smolyak 1.7200906422390565\n",
      "computation time: smolyak 0.001268148422241211\n",
      "gridpoints: 13\n",
      "dimension: 2; iteration: 3\n",
      "root mean squared error: smolyak 1.4315442351674423\n",
      "computation time: smolyak 0.0\n",
      "gridpoints: 29\n",
      "dimension: 3; iteration: 1\n",
      "root mean squared error: smolyak 3.0111593104486882\n",
      "computation time: smolyak 0.0\n",
      "gridpoints: 7\n",
      "dimension: 3; iteration: 2\n",
      "root mean squared error: smolyak 3.0227576449922062\n",
      "computation time: smolyak 0.0\n",
      "gridpoints: 25\n",
      "dimension: 3; iteration: 3\n",
      "root mean squared error: smolyak 2.8342841761913924\n",
      "computation time: smolyak 0.0\n",
      "gridpoints: 69\n",
      "dimension: 4; iteration: 1\n",
      "root mean squared error: smolyak 5.043718100694837\n",
      "computation time: smolyak 0.0\n",
      "gridpoints: 9\n",
      "dimension: 4; iteration: 2\n",
      "root mean squared error: smolyak 5.027349945921068\n",
      "computation time: smolyak 0.0\n",
      "gridpoints: 41\n",
      "dimension: 4; iteration: 3\n",
      "root mean squared error: smolyak 4.9475024649097294\n",
      "computation time: smolyak 0.0\n",
      "gridpoints: 137\n",
      "dimension: 5; iteration: 1\n",
      "root mean squared error: smolyak 7.856134681690956\n",
      "computation time: smolyak 0.0\n",
      "gridpoints: 11\n",
      "dimension: 5; iteration: 2\n",
      "root mean squared error: smolyak 7.820348181375342\n",
      "computation time: smolyak 0.015621185302734375\n",
      "gridpoints: 61\n",
      "dimension: 5; iteration: 3\n",
      "root mean squared error: smolyak 7.751876821166081\n",
      "computation time: smolyak 0.0\n",
      "gridpoints: 241\n",
      "dimension: 6; iteration: 1\n",
      "root mean squared error: smolyak 2.905024554505473\n",
      "computation time: smolyak 0.0019698143005371094\n",
      "gridpoints: 13\n",
      "dimension: 6; iteration: 2\n",
      "root mean squared error: smolyak 2.7138804050404066\n",
      "computation time: smolyak 0.0042266845703125\n",
      "gridpoints: 85\n",
      "dimension: 6; iteration: 3\n",
      "root mean squared error: smolyak 3.6663950877321496\n",
      "computation time: smolyak 0.01695394515991211\n",
      "gridpoints: 389\n",
      "dimension: 7; iteration: 1\n",
      "root mean squared error: smolyak 5.820989996433949\n",
      "computation time: smolyak 0.0009970664978027344\n",
      "gridpoints: 15\n",
      "dimension: 7; iteration: 2\n",
      "root mean squared error: smolyak 5.702152265533918\n",
      "computation time: smolyak 0.003988027572631836\n",
      "gridpoints: 113\n",
      "dimension: 7; iteration: 3\n",
      "root mean squared error: smolyak 6.299995228272586\n",
      "computation time: smolyak 0.038895368576049805\n",
      "gridpoints: 589\n",
      "dimension: 8; iteration: 1\n",
      "root mean squared error: smolyak 6.706983051371868\n",
      "computation time: smolyak 0.023934364318847656\n",
      "gridpoints: 17\n",
      "dimension: 8; iteration: 2\n",
      "root mean squared error: smolyak 6.598851643238873\n",
      "computation time: smolyak 0.010969877243041992\n",
      "gridpoints: 145\n",
      "dimension: 8; iteration: 3\n",
      "root mean squared error: smolyak 7.115687363481251\n",
      "computation time: smolyak 0.0794827938079834\n",
      "gridpoints: 849\n"
     ]
    }
   ],
   "source": [
    "# load parameters\n",
    "method = study_params[\"controls\"][\"method\"]\n",
    "func = study_params[\"controls\"][\"function to approximate\"]\n",
    "grid_size = study_params[\"controls\"][\"grid size\"]\n",
    "iterations = study_params[method][\"iterations\"]\n",
    "interpolator = study_params[method][\"interpolator\"]\n",
    "n_interpolation_points = study_params[\"controls\"][\n",
    "    \"number of points for accuracy check\"\n",
    "]\n",
    "accuracy_check_seed = study_params[\"controls\"][\"seed for accuracy check\"]\n",
    "\n",
    "# initiate dict to store results\n",
    "results = {}\n",
    "results[method] = {\"rmse\": {}, \"runtime\": {}, \"gridpoints\": {}}\n",
    "\n",
    "for n_vars in study_params[\"controls\"][\"variables\"]:\n",
    "\n",
    "    # generate grid\n",
    "    n_gridpoints = study_params[\"grid\"][\"zhou\"][\"n_gridpoints\"][grid_size]\n",
    "    grid_min = study_params[\"grid\"][\"zhou\"][\"lower bounds\"][:n_vars]\n",
    "    grid_max = study_params[\"grid\"][\"zhou\"][\"upper bounds\"][:n_vars]\n",
    "    dims_state_grid = np.array(object=[n_gridpoints] * n_vars, dtype=int,)\n",
    "    n_states = dims_state_grid.prod()\n",
    "    grid = get_grid(dims_state_grid, grid_min, grid_max)\n",
    "    index = np.array(object=range(n_states))\n",
    "\n",
    "    # get interpolation points\n",
    "    interpolation_points = get_interpolation_points(\n",
    "        n_interpolation_points, grid, accuracy_check_seed,\n",
    "    )\n",
    "\n",
    "    # get results on interpolation points\n",
    "    results_calc = func(interpolation_points)\n",
    "\n",
    "    # initiate objects to store results\n",
    "    rmse_tmp = []\n",
    "    runtime_tmp = []\n",
    "    n_gridpoints_effective_tmp = []\n",
    "\n",
    "    # iterate over settings\n",
    "    for iteration in range(iterations):\n",
    "        print(f\"dimension: {n_vars}; iteration: {iteration + 1}\")\n",
    "\n",
    "        # adjust interpolation parameters\n",
    "        if study_params[\"controls\"][\"method\"] == \"linear\":\n",
    "            interp_params[\"linear\"][\"interpolation_points\"] = study_params[\n",
    "                \"linear\"\n",
    "            ][\"interpolation_points\"][iteration]\n",
    "        elif study_params[\"controls\"][\"method\"] == \"spline\":\n",
    "            interp_params[\"spline\"][\"interpolation_points\"] = study_params[\n",
    "                \"spline\"\n",
    "            ][\"interpolation_points\"][iteration]\n",
    "        elif study_params[\"controls\"][\"method\"] == \"smolyak\":\n",
    "            interp_params[\"smolyak\"][\"mu\"] = study_params[\"smolyak\"][\"mu\"][\n",
    "                iteration\n",
    "            ]\n",
    "\n",
    "        # interpolate and capture computation time\n",
    "        start = time()\n",
    "        results_interp, n_gridpoints_effective = interpolator(\n",
    "            interpolation_points, grid, func, interp_params\n",
    "        )\n",
    "        stop = time()\n",
    "\n",
    "        # assess interpolation accuracy\n",
    "        rmse_iter = root_mean_squared_error(results_interp, results_calc)\n",
    "\n",
    "        # print and store results\n",
    "        print(\"root mean squared error: \" + method + f\" {rmse_iter}\")\n",
    "        print(\"computation time: \" + method + \" {}\".format(stop - start))\n",
    "        print(f\"gridpoints: {n_gridpoints_effective}\")\n",
    "\n",
    "        rmse_tmp.append(rmse_iter)\n",
    "        runtime_tmp.append(stop - start)\n",
    "        n_gridpoints_effective_tmp.append(n_gridpoints_effective)\n",
    "\n",
    "    results[method][\"rmse\"][n_vars] = np.array(object=rmse_tmp)\n",
    "    results[method][\"runtime\"][n_vars] = np.array(object=runtime_tmp)\n",
    "    results[method][\"gridpoints\"][n_vars] = np.array(\n",
    "        object=n_gridpoints_effective_tmp\n",
    "    )"
   ]
  },
  {
   "cell_type": "code",
   "execution_count": 5,
   "metadata": {},
   "outputs": [
    {
     "name": "stdout",
     "output_type": "stream",
     "text": [
      "{2: array([1.68588715, 1.72009064, 1.43154424]), 3: array([3.01115931, 3.02275764, 2.83428418]), 4: array([5.0437181 , 5.02734995, 4.94750246]), 5: array([7.85613468, 7.82034818, 7.75187682]), 6: array([2.90502455, 2.71388041, 3.66639509]), 7: array([5.82099   , 5.70215227, 6.29999523]), 8: array([6.70698305, 6.59885164, 7.11568736])}\n",
      "{2: array([0.05529547, 0.00126815, 0.        ]), 3: array([0., 0., 0.]), 4: array([0., 0., 0.]), 5: array([0.        , 0.01562119, 0.        ]), 6: array([0.00196981, 0.00422668, 0.01695395]), 7: array([0.00099707, 0.00398803, 0.03889537]), 8: array([0.02393436, 0.01096988, 0.07948279])}\n"
     ]
    }
   ],
   "source": [
    "print(results[\"smolyak\"][\"rmse\"])\n",
    "print(results[\"smolyak\"][\"runtime\"])"
   ]
  },
  {
   "cell_type": "code",
   "execution_count": null,
   "metadata": {},
   "outputs": [],
   "source": []
  },
  {
   "cell_type": "code",
   "execution_count": null,
   "metadata": {},
   "outputs": [],
   "source": []
  },
  {
   "cell_type": "code",
   "execution_count": null,
   "metadata": {},
   "outputs": [],
   "source": []
  },
  {
   "cell_type": "markdown",
   "metadata": {},
   "source": [
    "# Plot results"
   ]
  },
  {
   "cell_type": "code",
   "execution_count": 6,
   "metadata": {},
   "outputs": [
    {
     "data": {
      "image/png": "[encoded data removed]",
      "text/plain": [
       "<Figure size 1080x720 with 1 Axes>"
      ]
     },
     "metadata": {
      "needs_background": "light"
     },
     "output_type": "display_data"
    }
   ],
   "source": [
    "%matplotlib inline\n",
    "\n",
    "plt.rcParams['figure.figsize'] = [15, 10]\n",
    "\n",
    "plot_legend = []\n",
    "plot_x = []\n",
    "plot_y = []\n",
    "for n_vars in study_params[\"controls\"][\"variables\"]:\n",
    "    plot_legend.append(n_vars)\n",
    "    plot_x.append(results[method][\"gridpoints\"][n_vars])\n",
    "    plot_y.append(results[method][\"rmse\"][n_vars])\n",
    "\n",
    "for idx in range(len(study_params[\"controls\"][\"variables\"])):\n",
    "    plt.plot(plot_x[idx], plot_y[idx])\n",
    "\n",
    "plt.xscale(\"log\")\n",
    "plt.yscale(\"log\")\n",
    "plt.xlabel(\"number of interpolation points (log axis)\")\n",
    "plt.ylabel(\"root mean squared error (log axis)\")\n",
    "plt.legend(plot_legend)\n",
    "plt.title(\"Interpolation accuracy (\" + grid_size + \" grid)\")\n",
    "plt.show()"
   ]
  },
  {
   "cell_type": "code",
   "execution_count": null,
   "metadata": {},
   "outputs": [],
   "source": []
  },
  {
   "cell_type": "markdown",
   "metadata": {},
   "source": [
    "# References"
   ]
  },
  {
   "cell_type": "markdown",
   "metadata": {},
   "source": [
    "..."
   ]
  },
  {
   "cell_type": "code",
   "execution_count": null,
   "metadata": {},
   "outputs": [],
   "source": []
  },
  {
   "cell_type": "code",
   "execution_count": null,
   "metadata": {},
   "outputs": [],
   "source": []
  },
  {
   "cell_type": "code",
   "execution_count": null,
   "metadata": {},
   "outputs": [],
   "source": []
  }
 ],
 "metadata": {
  "kernelspec": {
   "display_name": "Python 3",
   "language": "python",
   "name": "python3"
  },
  "language_info": {
   "codemirror_mode": {
    "name": "ipython",
    "version": 3
   },
   "file_extension": ".py",
   "mimetype": "text/x-python",
   "name": "python",
   "nbconvert_exporter": "python",
   "pygments_lexer": "ipython3",
   "version": "3.7.6"
  },
  "pycharm": {
   "stem_cell": {
    "cell_type": "raw",
    "metadata": {
     "collapsed": false
    },
    "source": []
   }
  }
 },
 "nbformat": 4,
 "nbformat_minor": 1
}
